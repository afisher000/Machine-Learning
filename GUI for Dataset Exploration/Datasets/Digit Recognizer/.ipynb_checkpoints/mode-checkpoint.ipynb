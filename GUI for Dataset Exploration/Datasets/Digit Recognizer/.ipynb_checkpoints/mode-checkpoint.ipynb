{
 "cells": [
  {
   "cell_type": "code",
   "execution_count": 18,
   "id": "a91dd962-a841-4cd7-98b9-a1114c83075b",
   "metadata": {},
   "outputs": [],
   "source": [
    "import pandas as pd\n",
    "import numpy as np\n",
    "\n",
    "import matplotlib.pyplot as plt\n",
    "import matplotlib\n",
    "\n",
    "from sklearn.linear_model import SGDClassifier\n",
    "from sklearn.model_selection import cross_val_score, cross_val_predict\n",
    "from sklearn.metrics import confusion_matrix "
   ]
  },
  {
   "cell_type": "markdown",
   "id": "273b50ae-3ec3-4fd3-81dc-cb94d9c6f7ba",
   "metadata": {},
   "source": [
    "Read data from file"
   ]
  },
  {
   "cell_type": "code",
   "execution_count": 7,
   "id": "b7659b69-3d30-4c36-8710-7c9bc3895777",
   "metadata": {},
   "outputs": [],
   "source": [
    "df = pd.read_csv('train.csv')\n",
    "y_train = df.label.values\n",
    "X_train = df.drop(columns=['label']).values"
   ]
  },
  {
   "cell_type": "markdown",
   "id": "ba837d89-bc1d-4a39-a44d-34a4da7af729",
   "metadata": {},
   "source": [
    "Digits are 28x28 (784). Pick a random row and plot"
   ]
  },
  {
   "cell_type": "code",
   "execution_count": 8,
   "id": "c9e191d9-47bd-42a0-a275-783ec74d25c6",
   "metadata": {},
   "outputs": [
    {
     "data": {
      "text/plain": [
       "<matplotlib.image.AxesImage at 0xb9ff8b0>"
      ]
     },
     "execution_count": 8,
     "metadata": {},
     "output_type": "execute_result"
    },
    {
     "data": {
      "image/png": "[encoded data removed]",
      "text/plain": [
       "<Figure size 432x288 with 1 Axes>"
      ]
     },
     "metadata": {
      "needs_background": "light"
     },
     "output_type": "display_data"
    }
   ],
   "source": [
    "random_row = 500\n",
    "digit = X[500, :].reshape(28,28)\n",
    "plt.imshow(digit, matplotlib.cm.binary, interpolation='nearest')"
   ]
  },
  {
   "cell_type": "markdown",
   "id": "f220ae68-b090-4af0-8e9c-7e841cd2bf00",
   "metadata": {},
   "source": [
    "Train a SGD classifier to check if digit is 5 or not. Use cross validation to determine model accuracy.\n",
    "Note for a \"never 5\" classifier, we would be right 90% of the time. "
   ]
  },
  {
   "cell_type": "code",
   "execution_count": 9,
   "id": "6f1f6e8d-9dc4-457f-b070-d2836790c48a",
   "metadata": {},
   "outputs": [],
   "source": [
    "y_train_5 = (y_train==5)\n",
    "sgd_clf = SGDClassifier(random_state = 42)\n",
    "scores = cross_val_score(sgd_clf, X_train, y_train_5, cv=5, scoring = 'accuracy')"
   ]
  },
  {
   "cell_type": "markdown",
   "id": "b8f991bf-1e7c-44be-a82c-0bdcd20c6380",
   "metadata": {},
   "source": [
    "We see a result of roughly 96% accuracy."
   ]
  },
  {
   "cell_type": "code",
   "execution_count": 16,
   "id": "40483585-a231-4567-80a7-295df8e1d6f7",
   "metadata": {},
   "outputs": [
    {
     "name": "stdout",
     "output_type": "stream",
     "text": [
      "Mean = 96.4% +/- 0.3%\n"
     ]
    }
   ],
   "source": [
    "print(f'Mean = {scores.mean()*100:.1f}% +/- {scores.std()*100:.1f}%')"
   ]
  },
  {
   "cell_type": "markdown",
   "id": "4184952f-c93c-4250-8e35-307e9eebe888",
   "metadata": {},
   "source": [
    " A better way to understand the results is to use a confusion matrix. We use cross_val_predict to get predictions instead of scores.\n",
    " Then we generate our confusion matrix. "
   ]
  },
  {
   "cell_type": "code",
   "execution_count": 20,
   "id": "f2ef86de-9ee6-4193-8123-eb1a72559f04",
   "metadata": {},
   "outputs": [],
   "source": [
    "y_train_pred = cross_val_predict(sgd_clf, X_train, y_train_5, cv=5)"
   ]
  },
  {
   "cell_type": "code",
   "execution_count": 21,
   "id": "1f71775a-d451-4340-9dfe-21d19d42b2d1",
   "metadata": {},
   "outputs": [],
   "source": [
    "conf_mat = confusion_matrix(y_train_5, y_train_pred)"
   ]
  },
  {
   "cell_type": "markdown",
   "id": "e54861a8-ede3-4018-84d8-8899fca7fb0b",
   "metadata": {},
   "source": [
    "Note for a confusion matrix, the first row is negative target and the first column is predicted negative.\n",
    "Of course for a perfect classifier there would be zeros off the diagonal. \n",
    "Two figures of merit are the **precision** and **recall**. \n",
    "Think of precision as the accuracy when prediction is true and recall as the accuracy when actual is true. \n",
    "If you're too lazy to compute these yourself, of course you can use the build in functions\n"
   ]
  },
  {
   "cell_type": "code",
   "execution_count": null,
   "id": "e71cda4c-fc9a-451c-9f73-6093393d17d0",
   "metadata": {},
   "outputs": [],
   "source": [
    "from sklearn.metrics import precision_score, recall_scoree"
   ]
  }
 ],
 "metadata": {
  "kernelspec": {
   "display_name": "Python 3",
   "language": "python",
   "name": "python3"
  },
  "language_info": {
   "codemirror_mode": {
    "name": "ipython",
    "version": 3
   },
   "file_extension": ".py",
   "mimetype": "text/x-python",
   "name": "python",
   "nbconvert_exporter": "python",
   "pygments_lexer": "ipython3",
   "version": "3.8.8"
  }
 },
 "nbformat": 4,
 "nbformat_minor": 5
}
